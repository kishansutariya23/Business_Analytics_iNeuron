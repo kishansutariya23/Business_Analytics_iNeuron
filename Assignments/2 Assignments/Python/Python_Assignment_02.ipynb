{
 "cells": [
  {
   "attachments": {},
   "cell_type": "markdown",
   "metadata": {},
   "source": [
    "### 1.\tPython Program for n-th Fibonacci number"
   ]
  },
  {
   "cell_type": "code",
   "execution_count": 70,
   "metadata": {},
   "outputs": [
    {
     "name": "stdout",
     "output_type": "stream",
     "text": [
      "Fibonacci sequence:\n",
      "0\n",
      "1\n",
      "1\n",
      "2\n",
      "3\n",
      "\n",
      "0\n",
      "1\n",
      "1\n",
      "2\n"
     ]
    }
   ],
   "source": [
    "nterms = int(input(\"How many terms? \"))\n",
    "\n",
    "# first two terms\n",
    "n1, n2 = 0, 1\n",
    "count = 0\n",
    " \n",
    "if nterms <= 0:\n",
    "   print(\"Please enter a positive integer\")\n",
    "elif nterms == 1:\n",
    "   print(\"Fibonacci sequence upto\",nterms,\":\")\n",
    "   print(n1)\n",
    "else:\n",
    "   print(\"Fibonacci sequence:\")\n",
    "   while count < nterms:\n",
    "       print(n1)\n",
    "       nth = n1 + n2\n",
    "       # update values\n",
    "       n1 = n2\n",
    "       n2 = nth\n",
    "       count += 1\n",
    "\n",
    "\n",
    "print()\n",
    "# ===============\n",
    "a,b=0,1\n",
    "\n",
    "for i in range(nterms-3):\n",
    "    print(a)\n",
    "    print(b)\n",
    "    a=a+b\n",
    "    b=a+b"
   ]
  },
  {
   "attachments": {},
   "cell_type": "markdown",
   "metadata": {},
   "source": [
    "### 2.\tPython Program for How to check if a given number is Fibonacci number?"
   ]
  },
  {
   "cell_type": "code",
   "execution_count": 71,
   "metadata": {},
   "outputs": [
    {
     "name": "stdout",
     "output_type": "stream",
     "text": [
      "1 is a Fibonacci Number\n",
      "2 is a Fibonacci Number\n",
      "3 is a Fibonacci Number\n",
      "4 is a not Fibonacci Number \n",
      "5 is a Fibonacci Number\n",
      "6 is a not Fibonacci Number \n",
      "7 is a not Fibonacci Number \n",
      "8 is a Fibonacci Number\n",
      "9 is a not Fibonacci Number \n",
      "10 is a not Fibonacci Number \n"
     ]
    }
   ],
   "source": [
    "import math\n",
    "\n",
    "def isPerfectSquare(x):\n",
    "\ts = int(math.sqrt(x))\n",
    "\treturn s*s == x\n",
    "\n",
    "def isFibonacci(n):\n",
    "\n",
    "\treturn isPerfectSquare(5*n*n + 4) or isPerfectSquare(5*n*n - 4)\n",
    "\t\n",
    "for i in range(1,11):\n",
    "\tif (isFibonacci(i) == True):\n",
    "\t\tprint (i,\"is a Fibonacci Number\")\n",
    "\telse:\n",
    "\t\tprint (i,\"is a not Fibonacci Number \")\n"
   ]
  },
  {
   "attachments": {},
   "cell_type": "markdown",
   "metadata": {},
   "source": [
    "### 3.\tPython Program for n\\’th multiple of a number in Fibonacci Series"
   ]
  },
  {
   "cell_type": "code",
   "execution_count": 72,
   "metadata": {},
   "outputs": [
    {
     "name": "stdout",
     "output_type": "stream",
     "text": [
      "Position of n'th multiple of k inFibonacci Series is 30\n"
     ]
    }
   ],
   "source": [
    "def findPosition(k, n):\n",
    "\tf1 = 0\n",
    "\tf2 = 1\n",
    "\ti =2;\n",
    "\twhile i!=0:\n",
    "\t\tf3 = f1 + f2;\n",
    "\t\tf1 = f2;\n",
    "\t\tf2 = f3;\n",
    "\n",
    "\t\tif f2%k == 0:\n",
    "\t\t\treturn n*i\n",
    "\n",
    "\t\ti+=1\n",
    "\t\t\n",
    "\treturn\n",
    "\n",
    "\n",
    "# Multiple no.\n",
    "n = 5;\n",
    "# Number of whose multiple we are finding\n",
    "k = 4;\n",
    "\n",
    "print(\"Position of n\\'th multiple of k in\"\n",
    "\t\t\t\t\"Fibonacci Series is\", findPosition(k,n));\n",
    "\n",
    "\n"
   ]
  },
  {
   "attachments": {},
   "cell_type": "markdown",
   "metadata": {},
   "source": [
    "### 4.\tProgram to print ASCII Value of a character"
   ]
  },
  {
   "cell_type": "code",
   "execution_count": 73,
   "metadata": {},
   "outputs": [
    {
     "name": "stdout",
     "output_type": "stream",
     "text": [
      "ASCII value of G is 71\n"
     ]
    }
   ],
   "source": [
    "char = 'G'\n",
    "print('ASCII value of {} is {}'.format(char,ord(char)))"
   ]
  },
  {
   "attachments": {},
   "cell_type": "markdown",
   "metadata": {},
   "source": [
    "### 5.\tPython Program for Sum of squares of first n natural numbers"
   ]
  },
  {
   "cell_type": "code",
   "execution_count": 74,
   "metadata": {},
   "outputs": [
    {
     "name": "stdout",
     "output_type": "stream",
     "text": [
      "Sum of Square of first 100 natural number is 328350\n"
     ]
    }
   ],
   "source": [
    "n=100\n",
    "s=0\n",
    "for i in range(1,n):\n",
    "    s+=i**2\n",
    "print('Sum of Square of first {} natural number is {}'.format(n,s))\n",
    "\n"
   ]
  },
  {
   "attachments": {},
   "cell_type": "markdown",
   "metadata": {},
   "source": [
    "### 6.\tPython Program for cube sum of first n natural numbers"
   ]
  },
  {
   "cell_type": "code",
   "execution_count": 75,
   "metadata": {},
   "outputs": [
    {
     "name": "stdout",
     "output_type": "stream",
     "text": [
      "Cube Sum of first 100 natural number is 24502500\n"
     ]
    }
   ],
   "source": [
    "n=100\n",
    "s=0\n",
    "for i in range(1,n):\n",
    "    s+=i**3\n",
    "print('Cube Sum of first {} natural number is {}'.format(n,s))\n",
    "\n"
   ]
  },
  {
   "attachments": {},
   "cell_type": "markdown",
   "metadata": {},
   "source": [
    "### 7.\tPython Program to find sum of array"
   ]
  },
  {
   "cell_type": "code",
   "execution_count": 76,
   "metadata": {},
   "outputs": [
    {
     "name": "stdout",
     "output_type": "stream",
     "text": [
      "Sum of array is 55\n",
      "\n",
      "Sum of array is 55\n"
     ]
    }
   ],
   "source": [
    "arr7=[1,2,3,4,5,6,7,8,9,10]\n",
    "print('Sum of array is {}'.format(sum(arr7)))\n",
    "print()\n",
    "\n",
    "s=0\n",
    "for i in arr7:\n",
    "    s+=i\n",
    "print('Sum of array is {}'.format(s))\n"
   ]
  },
  {
   "attachments": {},
   "cell_type": "markdown",
   "metadata": {},
   "source": [
    "### 8.\tPython Program to find largest element in an array"
   ]
  },
  {
   "cell_type": "code",
   "execution_count": 77,
   "metadata": {},
   "outputs": [
    {
     "name": "stdout",
     "output_type": "stream",
     "text": [
      "Largest value : 10\n",
      "\n",
      "3 Largest value : 8\n",
      "\n"
     ]
    }
   ],
   "source": [
    "arr8=[1,2,3,4,5,6,7,8,9,10]\n",
    "m=3 # third largest value\n",
    "print('Largest value :',max(arr8))\n",
    "\n",
    "print()\n",
    "arr88=arr8\n",
    "for i in range(m-1):\n",
    "    arr88.remove(max(arr88))\n",
    "\n",
    "print('{} Largest value : {}'.format(m,max(arr88)))\n",
    "\n",
    "print()\n",
    "\n"
   ]
  },
  {
   "attachments": {},
   "cell_type": "markdown",
   "metadata": {},
   "source": [
    "### 9.\tPython Program for array rotation"
   ]
  },
  {
   "cell_type": "code",
   "execution_count": 78,
   "metadata": {},
   "outputs": [
    {
     "data": {
      "text/plain": [
       "[10, 9, 8, 7, 6, 5, 4, 3, 2, 1]"
      ]
     },
     "execution_count": 78,
     "metadata": {},
     "output_type": "execute_result"
    }
   ],
   "source": [
    "arr9=[1,2,3,4,5,6,7,8,9,10]\n",
    "\n",
    "# left rotational by 2\n",
    "d=2\n",
    "fp=arr9[d:][::-1]\n",
    "lp=arr9[:d][::-1]\n",
    "# print(fp,lp)\n",
    "arr9=fp\n",
    "for i in lp:\n",
    "    arr9.append(i)\n",
    "arr9"
   ]
  },
  {
   "attachments": {},
   "cell_type": "markdown",
   "metadata": {},
   "source": [
    "### 10.\tPython Program for Reversal algorithm for array rotation"
   ]
  },
  {
   "cell_type": "code",
   "execution_count": 79,
   "metadata": {},
   "outputs": [
    {
     "name": "stdout",
     "output_type": "stream",
     "text": [
      "[6, 7, 8, 9, 10, 1, 2, 3, 4, 5]\n"
     ]
    }
   ],
   "source": [
    "arr10=[1,2,3,4,5,6,7,8,9,10]\n",
    "\n",
    "# split half and reverse both array\n",
    "fp=arr10[:len(arr10)//2][::-1]\n",
    "lp=arr10[len(arr10)//2:][::-1]\n",
    "# print(fp,lp)\n",
    "# add both array \n",
    "arr10=fp\n",
    "for i in lp:\n",
    "    fp.append(i)\n",
    "# now reerse the array\n",
    "print(arr10[::-1])\n"
   ]
  },
  {
   "attachments": {},
   "cell_type": "markdown",
   "metadata": {},
   "source": [
    "### 11.\tPython Program to Split the array and add the first part to the end"
   ]
  },
  {
   "cell_type": "code",
   "execution_count": 80,
   "metadata": {},
   "outputs": [
    {
     "name": "stdout",
     "output_type": "stream",
     "text": [
      "[1, 2, 3, 4, 5] [6, 7, 8, 9, 10]\n",
      "final array [6, 7, 8, 9, 10, 1, 2, 3, 4, 5]\n"
     ]
    }
   ],
   "source": [
    "arr11=[1,2,3,4,5,6,7,8,9,10]\n",
    "fp=arr11[:len(arr11)//2]\n",
    "lp=arr11[len(arr11)//2:]\n",
    "print(fp,lp)\n",
    "del arr11[:len(arr11)//2]\n",
    "for i in fp:\n",
    "    arr11.append(i)\n",
    "print\n",
    "print('final array',arr11)"
   ]
  },
  {
   "cell_type": "code",
   "execution_count": null,
   "metadata": {},
   "outputs": [],
   "source": []
  }
 ],
 "metadata": {
  "language_info": {
   "name": "python"
  },
  "orig_nbformat": 4
 },
 "nbformat": 4,
 "nbformat_minor": 2
}
