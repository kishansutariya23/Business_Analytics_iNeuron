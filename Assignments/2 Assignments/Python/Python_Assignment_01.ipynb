{
 "cells": [
  {
   "attachments": {},
   "cell_type": "markdown",
   "id": "1a8293a5",
   "metadata": {},
   "source": [
    "### 1.\tWrite a Python program to find those numbers which are divisible by 7 and multiple of 5, between 1500 and 2700 (both included).\n"
   ]
  },
  {
   "cell_type": "code",
   "execution_count": 1,
   "id": "985b22a5",
   "metadata": {},
   "outputs": [
    {
     "name": "stdout",
     "output_type": "stream",
     "text": [
      "1505, 1540, 1575, 1610, 1645, 1680, 1715, 1750, 1785, 1820, 1855, 1890, 1925, 1960, 1995, 2030, 2065, 2100, 2135, 2170, 2205, 2240, 2275, 2310, 2345, 2380, 2415, 2450, 2485, 2520, 2555, 2590, 2625, 2660, 2695, "
     ]
    }
   ],
   "source": [
    "for i in range(1500,2700+1):\n",
    "    if i%7==0 and i%5==0:\n",
    "        print(i, end=', ', )"
   ]
  },
  {
   "attachments": {},
   "cell_type": "markdown",
   "id": "80892c88",
   "metadata": {},
   "source": [
    "### 2.\tPython program to add two numbers\n"
   ]
  },
  {
   "cell_type": "code",
   "execution_count": 2,
   "id": "227419ec",
   "metadata": {},
   "outputs": [
    {
     "data": {
      "text/plain": [
       "759"
      ]
     },
     "execution_count": 2,
     "metadata": {},
     "output_type": "execute_result"
    }
   ],
   "source": [
    "def addnum(a,b):\n",
    "    return a+b\n",
    "addnum(375,384)"
   ]
  },
  {
   "attachments": {},
   "cell_type": "markdown",
   "id": "8e62db68",
   "metadata": {},
   "source": [
    "### 3.\tMaximum of two numbers in Python\n"
   ]
  },
  {
   "cell_type": "code",
   "execution_count": 3,
   "id": "b30e5969",
   "metadata": {},
   "outputs": [
    {
     "data": {
      "text/plain": [
       "376"
      ]
     },
     "execution_count": 3,
     "metadata": {},
     "output_type": "execute_result"
    }
   ],
   "source": [
    "def maxnum(a,b):\n",
    "    if a>b:\n",
    "        return a\n",
    "    else:\n",
    "        return b\n",
    "\n",
    "maxnum(375,376)"
   ]
  },
  {
   "attachments": {},
   "cell_type": "markdown",
   "id": "118fa480",
   "metadata": {},
   "source": [
    "### 4.\tPython Program for factorial of a number\n"
   ]
  },
  {
   "cell_type": "code",
   "execution_count": 2,
   "id": "f77b22bf",
   "metadata": {},
   "outputs": [
    {
     "data": {
      "text/plain": [
       "24"
      ]
     },
     "execution_count": 2,
     "metadata": {},
     "output_type": "execute_result"
    }
   ],
   "source": [
    "def fac(n):\n",
    "    if n==0:\n",
    "        return 1\n",
    "    else:\n",
    "        return n*fac(n-1)\n",
    "\n",
    "fac(4)"
   ]
  },
  {
   "attachments": {},
   "cell_type": "markdown",
   "id": "ac1d0ab6",
   "metadata": {},
   "source": [
    "### 5.\tPython Program for simple interest\n"
   ]
  },
  {
   "cell_type": "code",
   "execution_count": 6,
   "id": "8bc2b3d6",
   "metadata": {},
   "outputs": [
    {
     "name": "stdout",
     "output_type": "stream",
     "text": [
      "SI : 50.0\n",
      "Total Amount : 1050.0\n"
     ]
    }
   ],
   "source": [
    "# Formula:- A=P(1+rt)\n",
    "# A\t=\tfinal amount\n",
    "# P\t=\tinitial principal amount\n",
    "# r\t=\tannual interest rate\n",
    "# t\t=\ttime (in years)\n",
    "\n",
    "P = int(input('initial principal amount : ')) #1000\n",
    "r = int(input('annual interest rate : ')) #5\n",
    "t = int(input(\"time (in years) : \")) # 1\n",
    "SI=P*r*t/100\n",
    "print('SI : {}'.format(P*r*t/100))\n",
    "A=SI+P\n",
    "print('Total Amount : {}'.format(A))"
   ]
  },
  {
   "attachments": {},
   "cell_type": "markdown",
   "id": "c9cf7dac",
   "metadata": {},
   "source": [
    "### 6.\tPython Program for compound interest\n"
   ]
  },
  {
   "cell_type": "code",
   "execution_count": 10,
   "id": "55fdddc2",
   "metadata": {},
   "outputs": [
    {
     "name": "stdout",
     "output_type": "stream",
     "text": [
      "Total Amount : 14180.360522260398\n"
     ]
    }
   ],
   "source": [
    "# Formula:- A=P(1+r/n)^(n*t)\n",
    "# A\t=\tfinal amount\n",
    "# P\t=\tinitial principal amount\n",
    "# r\t=\tannual interest rate\n",
    "# n\t=\tnumber of times interest applied per time period\n",
    "# t\t=\ttime (in years)\n",
    "\n",
    "\n",
    "P = int(input('initial principal amount : ')) #10000\n",
    "r = int(input('annual interest rate : ')) #5\n",
    "t = int(input(\"time (in years) : \")) # 7\n",
    "n = int(input(\"Compound : \")) # 12\n",
    "\n",
    "A=P*(1+r/(n*100))**(n*t)\n",
    "print('Total Amount : {}'.format(A))"
   ]
  },
  {
   "attachments": {},
   "cell_type": "markdown",
   "id": "d39c037b",
   "metadata": {},
   "source": [
    "### 7.\tPython Program to check Armstrong Number\n"
   ]
  },
  {
   "cell_type": "code",
   "execution_count": 16,
   "id": "d1b2930b",
   "metadata": {},
   "outputs": [
    {
     "name": "stdout",
     "output_type": "stream",
     "text": [
      "Armstrong Number\n"
     ]
    }
   ],
   "source": [
    "# sum of cubes of its digits\n",
    "# 371, 370, 153\n",
    "n=input('Enter no. to check ')\n",
    "s=0\n",
    "for i in n:\n",
    "   s+=int(i)**3 \n",
    "if s==int(n):\n",
    "   print('Armstrong Number')\n",
    "else:\n",
    "   print('Not Armstrong no.')"
   ]
  },
  {
   "attachments": {},
   "cell_type": "markdown",
   "id": "d0549f74",
   "metadata": {},
   "source": [
    "### 8.\tPython Program for Program to find area of a circle\n"
   ]
  },
  {
   "cell_type": "code",
   "execution_count": 17,
   "id": "9b273dfe",
   "metadata": {},
   "outputs": [
    {
     "name": "stdout",
     "output_type": "stream",
     "text": [
      "Area of circle is  1661.9025137490005\n"
     ]
    }
   ],
   "source": [
    "# Formula a=pi*r**2\n",
    "import math\n",
    "r=int(input('Enter the radius of circle '))  #23\n",
    "print('Area of circle is ',math.pi*(r**2))"
   ]
  },
  {
   "attachments": {},
   "cell_type": "markdown",
   "id": "5b235840",
   "metadata": {},
   "source": [
    "### 9.\tPython program to print all Prime numbers in an Interval 50 - 100\n"
   ]
  },
  {
   "cell_type": "code",
   "execution_count": 24,
   "id": "d9b03894",
   "metadata": {},
   "outputs": [
    {
     "name": "stdout",
     "output_type": "stream",
     "text": [
      "53 59 61 67 71 73 79 83 89 97 "
     ]
    }
   ],
   "source": [
    "for i in range(50,100):\n",
    "    if i>1:\n",
    "        for j in range(2,i):\n",
    "            if i%j==0:\n",
    "                break\n",
    "        else:\n",
    "            print(i,end=' ')"
   ]
  },
  {
   "attachments": {},
   "cell_type": "markdown",
   "id": "abdebee9",
   "metadata": {},
   "source": [
    "### 10.\t Python program to check whether a number is Prime or not\n"
   ]
  },
  {
   "cell_type": "code",
   "execution_count": 29,
   "id": "ae04ad13",
   "metadata": {},
   "outputs": [
    {
     "name": "stdout",
     "output_type": "stream",
     "text": [
      "Prime\n",
      "Not Prime\n",
      "None\n"
     ]
    }
   ],
   "source": [
    "def is_prime(n):\n",
    " \n",
    "    for j in range(2,n):\n",
    "        if n%j==0:\n",
    "            print('Not Prime')\n",
    "            break\n",
    "    else:\n",
    "        return 'Prime'\n",
    "\n",
    "print(is_prime(83))\n",
    "print(is_prime(84))"
   ]
  },
  {
   "cell_type": "code",
   "execution_count": null,
   "id": "dd1f89a3",
   "metadata": {},
   "outputs": [],
   "source": []
  }
 ],
 "metadata": {
  "kernelspec": {
   "display_name": "Python 3 (ipykernel)",
   "language": "python",
   "name": "python3"
  },
  "language_info": {
   "codemirror_mode": {
    "name": "ipython",
    "version": 3
   },
   "file_extension": ".py",
   "mimetype": "text/x-python",
   "name": "python",
   "nbconvert_exporter": "python",
   "pygments_lexer": "ipython3",
   "version": "3.9.7"
  }
 },
 "nbformat": 4,
 "nbformat_minor": 5
}
